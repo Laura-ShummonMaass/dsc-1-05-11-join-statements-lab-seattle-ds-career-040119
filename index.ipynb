{
 "cells": [
  {
   "cell_type": "markdown",
   "metadata": {},
   "source": [
    "# Join Statements - Lab\n",
    "\n",
    "## Introduction\n",
    "\n",
    "In this lab, you'll practice your knowledge on Join statements.\n",
    "\n",
    "## Objectives\n",
    "\n",
    "You will be able to:\n",
    "- Write queries that make use of various types of Joins\n",
    "- Join tables using foreign keys"
   ]
  },
  {
   "cell_type": "markdown",
   "metadata": {},
   "source": [
    "## CRM Schema\n",
    "\n",
    "In almost all cases, rather then just working with a single table we will typically need data from multiple tables. \n",
    "Doing this requires the use of **joins ** using shared columns from the two tables. \n",
    "\n",
    "In this lab, we'll use the same Customer Relationship Management (CRM) database we used in our lecture before!\n",
    "<img src='Database-Schema.png' width=550>"
   ]
  },
  {
   "cell_type": "markdown",
   "metadata": {},
   "source": [
    "## Connecting to the Database\n",
    "Import the necessary packages and connect to the database **data.sqlite**."
   ]
  },
  {
   "cell_type": "code",
   "execution_count": 1,
   "metadata": {},
   "outputs": [],
   "source": [
    "import sqlite3\n",
    "import pandas as pd\n",
    "#Your code here"
   ]
  },
  {
   "cell_type": "code",
   "execution_count": 2,
   "metadata": {},
   "outputs": [],
   "source": [
    "conn = sqlite3.connect('data.sqlite', detect_types=sqlite3.PARSE_COLNAMES)\n",
    "cur = conn.cursor()"
   ]
  },
  {
   "cell_type": "code",
   "execution_count": 6,
   "metadata": {},
   "outputs": [
    {
     "data": {
      "text/html": [
       "<div>\n",
       "<style scoped>\n",
       "    .dataframe tbody tr th:only-of-type {\n",
       "        vertical-align: middle;\n",
       "    }\n",
       "\n",
       "    .dataframe tbody tr th {\n",
       "        vertical-align: top;\n",
       "    }\n",
       "\n",
       "    .dataframe thead th {\n",
       "        text-align: right;\n",
       "    }\n",
       "</style>\n",
       "<table border=\"1\" class=\"dataframe\">\n",
       "  <thead>\n",
       "    <tr style=\"text-align: right;\">\n",
       "      <th></th>\n",
       "      <th>employeeNumber</th>\n",
       "      <th>lastName</th>\n",
       "      <th>firstName</th>\n",
       "      <th>extension</th>\n",
       "      <th>email</th>\n",
       "      <th>officeCode</th>\n",
       "      <th>reportsTo</th>\n",
       "      <th>jobTitle</th>\n",
       "    </tr>\n",
       "  </thead>\n",
       "  <tbody>\n",
       "    <tr>\n",
       "      <th>0</th>\n",
       "      <td>1002</td>\n",
       "      <td>Murphy</td>\n",
       "      <td>Diane</td>\n",
       "      <td>x5800</td>\n",
       "      <td>dmurphy@classicmodelcars.com</td>\n",
       "      <td>1</td>\n",
       "      <td></td>\n",
       "      <td>President</td>\n",
       "    </tr>\n",
       "    <tr>\n",
       "      <th>1</th>\n",
       "      <td>1056</td>\n",
       "      <td>Patterson</td>\n",
       "      <td>Mary</td>\n",
       "      <td>x4611</td>\n",
       "      <td>mpatterso@classicmodelcars.com</td>\n",
       "      <td>1</td>\n",
       "      <td>1002</td>\n",
       "      <td>VP Sales</td>\n",
       "    </tr>\n",
       "    <tr>\n",
       "      <th>2</th>\n",
       "      <td>1076</td>\n",
       "      <td>Firrelli</td>\n",
       "      <td>Jeff</td>\n",
       "      <td>x9273</td>\n",
       "      <td>jfirrelli@classicmodelcars.com</td>\n",
       "      <td>1</td>\n",
       "      <td>1002</td>\n",
       "      <td>VP Marketing</td>\n",
       "    </tr>\n",
       "    <tr>\n",
       "      <th>3</th>\n",
       "      <td>1088</td>\n",
       "      <td>Patterson</td>\n",
       "      <td>William</td>\n",
       "      <td>x4871</td>\n",
       "      <td>wpatterson@classicmodelcars.com</td>\n",
       "      <td>6</td>\n",
       "      <td>1056</td>\n",
       "      <td>Sales Manager (APAC)</td>\n",
       "    </tr>\n",
       "    <tr>\n",
       "      <th>4</th>\n",
       "      <td>1102</td>\n",
       "      <td>Bondur</td>\n",
       "      <td>Gerard</td>\n",
       "      <td>x5408</td>\n",
       "      <td>gbondur@classicmodelcars.com</td>\n",
       "      <td>4</td>\n",
       "      <td>1056</td>\n",
       "      <td>Sale Manager (EMEA)</td>\n",
       "    </tr>\n",
       "  </tbody>\n",
       "</table>\n",
       "</div>"
      ],
      "text/plain": [
       "  employeeNumber   lastName firstName extension  \\\n",
       "0           1002     Murphy     Diane     x5800   \n",
       "1           1056  Patterson      Mary     x4611   \n",
       "2           1076   Firrelli      Jeff     x9273   \n",
       "3           1088  Patterson   William     x4871   \n",
       "4           1102     Bondur    Gerard     x5408   \n",
       "\n",
       "                             email officeCode reportsTo              jobTitle  \n",
       "0     dmurphy@classicmodelcars.com          1                       President  \n",
       "1   mpatterso@classicmodelcars.com          1      1002              VP Sales  \n",
       "2   jfirrelli@classicmodelcars.com          1      1002          VP Marketing  \n",
       "3  wpatterson@classicmodelcars.com          6      1056  Sales Manager (APAC)  \n",
       "4     gbondur@classicmodelcars.com          4      1056   Sale Manager (EMEA)  "
      ]
     },
     "execution_count": 6,
     "metadata": {},
     "output_type": "execute_result"
    }
   ],
   "source": [
    "cur.execute('''SELECT * FROM employees;''')\n",
    "df = pd.DataFrame(cur.fetchall()) #Take results and create dataframe\n",
    "df.columns = [i[0] for i in cur.description]\n",
    "df.head()"
   ]
  },
  {
   "cell_type": "code",
   "execution_count": 4,
   "metadata": {},
   "outputs": [
    {
     "data": {
      "text/html": [
       "<div>\n",
       "<style scoped>\n",
       "    .dataframe tbody tr th:only-of-type {\n",
       "        vertical-align: middle;\n",
       "    }\n",
       "\n",
       "    .dataframe tbody tr th {\n",
       "        vertical-align: top;\n",
       "    }\n",
       "\n",
       "    .dataframe thead th {\n",
       "        text-align: right;\n",
       "    }\n",
       "</style>\n",
       "<table border=\"1\" class=\"dataframe\">\n",
       "  <thead>\n",
       "    <tr style=\"text-align: right;\">\n",
       "      <th></th>\n",
       "      <th>productCode</th>\n",
       "      <th>productName</th>\n",
       "      <th>productLine</th>\n",
       "      <th>productScale</th>\n",
       "      <th>productVendor</th>\n",
       "      <th>productDescription</th>\n",
       "      <th>quantityInStock</th>\n",
       "      <th>buyPrice</th>\n",
       "      <th>MSRP</th>\n",
       "    </tr>\n",
       "  </thead>\n",
       "  <tbody>\n",
       "    <tr>\n",
       "      <th>0</th>\n",
       "      <td>S10_1678</td>\n",
       "      <td>1969 Harley Davidson Ultimate Chopper</td>\n",
       "      <td>Motorcycles</td>\n",
       "      <td>1:10</td>\n",
       "      <td>Min Lin Diecast</td>\n",
       "      <td>This replica features working kickstand, front...</td>\n",
       "      <td>7933</td>\n",
       "      <td>48.81</td>\n",
       "      <td>95.70</td>\n",
       "    </tr>\n",
       "    <tr>\n",
       "      <th>1</th>\n",
       "      <td>S10_1949</td>\n",
       "      <td>1952 Alpine Renault 1300</td>\n",
       "      <td>Classic Cars</td>\n",
       "      <td>1:10</td>\n",
       "      <td>Classic Metal Creations</td>\n",
       "      <td>Turnable front wheels; steering function; deta...</td>\n",
       "      <td>7305</td>\n",
       "      <td>98.58</td>\n",
       "      <td>214.30</td>\n",
       "    </tr>\n",
       "    <tr>\n",
       "      <th>2</th>\n",
       "      <td>S10_2016</td>\n",
       "      <td>1996 Moto Guzzi 1100i</td>\n",
       "      <td>Motorcycles</td>\n",
       "      <td>1:10</td>\n",
       "      <td>Highway 66 Mini Classics</td>\n",
       "      <td>Official Moto Guzzi logos and insignias, saddl...</td>\n",
       "      <td>6625</td>\n",
       "      <td>68.99</td>\n",
       "      <td>118.94</td>\n",
       "    </tr>\n",
       "    <tr>\n",
       "      <th>3</th>\n",
       "      <td>S10_4698</td>\n",
       "      <td>2003 Harley-Davidson Eagle Drag Bike</td>\n",
       "      <td>Motorcycles</td>\n",
       "      <td>1:10</td>\n",
       "      <td>Red Start Diecast</td>\n",
       "      <td>Model features, official Harley Davidson logos...</td>\n",
       "      <td>5582</td>\n",
       "      <td>91.02</td>\n",
       "      <td>193.66</td>\n",
       "    </tr>\n",
       "    <tr>\n",
       "      <th>4</th>\n",
       "      <td>S10_4757</td>\n",
       "      <td>1972 Alfa Romeo GTA</td>\n",
       "      <td>Classic Cars</td>\n",
       "      <td>1:10</td>\n",
       "      <td>Motor City Art Classics</td>\n",
       "      <td>Features include: Turnable front wheels; steer...</td>\n",
       "      <td>3252</td>\n",
       "      <td>85.68</td>\n",
       "      <td>136.00</td>\n",
       "    </tr>\n",
       "  </tbody>\n",
       "</table>\n",
       "</div>"
      ],
      "text/plain": [
       "  productCode                            productName   productLine  \\\n",
       "0    S10_1678  1969 Harley Davidson Ultimate Chopper   Motorcycles   \n",
       "1    S10_1949               1952 Alpine Renault 1300  Classic Cars   \n",
       "2    S10_2016                  1996 Moto Guzzi 1100i   Motorcycles   \n",
       "3    S10_4698   2003 Harley-Davidson Eagle Drag Bike   Motorcycles   \n",
       "4    S10_4757                    1972 Alfa Romeo GTA  Classic Cars   \n",
       "\n",
       "  productScale             productVendor  \\\n",
       "0         1:10           Min Lin Diecast   \n",
       "1         1:10   Classic Metal Creations   \n",
       "2         1:10  Highway 66 Mini Classics   \n",
       "3         1:10         Red Start Diecast   \n",
       "4         1:10   Motor City Art Classics   \n",
       "\n",
       "                                  productDescription quantityInStock buyPrice  \\\n",
       "0  This replica features working kickstand, front...            7933    48.81   \n",
       "1  Turnable front wheels; steering function; deta...            7305    98.58   \n",
       "2  Official Moto Guzzi logos and insignias, saddl...            6625    68.99   \n",
       "3  Model features, official Harley Davidson logos...            5582    91.02   \n",
       "4  Features include: Turnable front wheels; steer...            3252    85.68   \n",
       "\n",
       "     MSRP  \n",
       "0   95.70  \n",
       "1  214.30  \n",
       "2  118.94  \n",
       "3  193.66  \n",
       "4  136.00  "
      ]
     },
     "execution_count": 4,
     "metadata": {},
     "output_type": "execute_result"
    }
   ],
   "source": [
    "cur.execute('''SELECT * FROM products;''')\n",
    "df = pd.DataFrame(cur.fetchall()) #Take results and create dataframe\n",
    "df.columns = [i[0] for i in cur.description]\n",
    "df.head()"
   ]
  },
  {
   "cell_type": "markdown",
   "metadata": {},
   "source": [
    "(i don't know how to delete this cell)"
   ]
  },
  {
   "cell_type": "markdown",
   "metadata": {},
   "source": [
    "## Display the names of all the employees in Boston."
   ]
  },
  {
   "cell_type": "code",
   "execution_count": 5,
   "metadata": {},
   "outputs": [
    {
     "data": {
      "text/html": [
       "<div>\n",
       "<style scoped>\n",
       "    .dataframe tbody tr th:only-of-type {\n",
       "        vertical-align: middle;\n",
       "    }\n",
       "\n",
       "    .dataframe tbody tr th {\n",
       "        vertical-align: top;\n",
       "    }\n",
       "\n",
       "    .dataframe thead th {\n",
       "        text-align: right;\n",
       "    }\n",
       "</style>\n",
       "<table border=\"1\" class=\"dataframe\">\n",
       "  <thead>\n",
       "    <tr style=\"text-align: right;\">\n",
       "      <th></th>\n",
       "      <th>firstName</th>\n",
       "      <th>lastName</th>\n",
       "    </tr>\n",
       "  </thead>\n",
       "  <tbody>\n",
       "    <tr>\n",
       "      <th>0</th>\n",
       "      <td>Diane</td>\n",
       "      <td>Murphy</td>\n",
       "    </tr>\n",
       "    <tr>\n",
       "      <th>1</th>\n",
       "      <td>Mary</td>\n",
       "      <td>Patterson</td>\n",
       "    </tr>\n",
       "    <tr>\n",
       "      <th>2</th>\n",
       "      <td>Jeff</td>\n",
       "      <td>Firrelli</td>\n",
       "    </tr>\n",
       "    <tr>\n",
       "      <th>3</th>\n",
       "      <td>William</td>\n",
       "      <td>Patterson</td>\n",
       "    </tr>\n",
       "    <tr>\n",
       "      <th>4</th>\n",
       "      <td>Gerard</td>\n",
       "      <td>Bondur</td>\n",
       "    </tr>\n",
       "  </tbody>\n",
       "</table>\n",
       "</div>"
      ],
      "text/plain": [
       "  firstName   lastName\n",
       "0     Diane     Murphy\n",
       "1      Mary  Patterson\n",
       "2      Jeff   Firrelli\n",
       "3   William  Patterson\n",
       "4    Gerard     Bondur"
      ]
     },
     "execution_count": 5,
     "metadata": {},
     "output_type": "execute_result"
    }
   ],
   "source": [
    "cur.execute('''SELECT firstName, lastName FROM employees WHERE ;''')\n",
    "df = pd.DataFrame(cur.fetchall()) #Take results and create dataframe\n",
    "df.columns = [i[0] for i in cur.description]\n",
    "df.head()\n",
    "#Your code here"
   ]
  },
  {
   "cell_type": "markdown",
   "metadata": {},
   "source": [
    "## Do any offices have no employees?"
   ]
  },
  {
   "cell_type": "code",
   "execution_count": null,
   "metadata": {},
   "outputs": [],
   "source": [
    "#Your code here"
   ]
  },
  {
   "cell_type": "markdown",
   "metadata": {},
   "source": [
    "## Write 3 Questions of your own and answer them"
   ]
  },
  {
   "cell_type": "code",
   "execution_count": null,
   "metadata": {},
   "outputs": [],
   "source": [
    "# Answers will vary"
   ]
  },
  {
   "cell_type": "code",
   "execution_count": null,
   "metadata": {},
   "outputs": [],
   "source": [
    "# Your code here"
   ]
  },
  {
   "cell_type": "code",
   "execution_count": null,
   "metadata": {},
   "outputs": [],
   "source": [
    "# Your code here"
   ]
  },
  {
   "cell_type": "code",
   "execution_count": null,
   "metadata": {},
   "outputs": [],
   "source": [
    "# Your code here"
   ]
  },
  {
   "cell_type": "markdown",
   "metadata": {},
   "source": [
    "## Level Up: Display the names of each product each employee has sold."
   ]
  },
  {
   "cell_type": "code",
   "execution_count": null,
   "metadata": {},
   "outputs": [],
   "source": [
    "# Your code here"
   ]
  },
  {
   "cell_type": "markdown",
   "metadata": {},
   "source": [
    "## Level Up: Display the Number of Products each Employee Has sold"
   ]
  },
  {
   "cell_type": "code",
   "execution_count": null,
   "metadata": {},
   "outputs": [],
   "source": [
    "#Your code here"
   ]
  },
  {
   "cell_type": "markdown",
   "metadata": {},
   "source": [
    "## Summary"
   ]
  },
  {
   "cell_type": "markdown",
   "metadata": {},
   "source": [
    "Congrats! You now know how to use Join statements, along with leveraging your foreign keys knowledge!"
   ]
  }
 ],
 "metadata": {
  "kernelspec": {
   "display_name": "Python 3",
   "language": "python",
   "name": "python3"
  },
  "language_info": {
   "codemirror_mode": {
    "name": "ipython",
    "version": 3
   },
   "file_extension": ".py",
   "mimetype": "text/x-python",
   "name": "python",
   "nbconvert_exporter": "python",
   "pygments_lexer": "ipython3",
   "version": "3.6.6"
  }
 },
 "nbformat": 4,
 "nbformat_minor": 2
}
